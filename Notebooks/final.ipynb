{
 "cells": [
  {
   "cell_type": "markdown",
   "metadata": {},
   "source": [
    "# Aviation Accident Risk Analysis for Strategic Investment"
   ]
  },
  {
   "cell_type": "markdown",
   "metadata": {},
   "source": [
    "## Goals\n",
    "\n",
    "To help the company identify the lowest-risk aircraft models for commercial and private aviation.  \n",
    "The goal is to analyze historical accident data to uncover patterns that can guide safe aircraft investments.\n"
   ]
  },
  {
   "cell_type": "markdown",
   "metadata": {},
   "source": [
    "## Data\n",
    "\n",
    "The dataset is from the National Transportation Safety Board (NTSB), covering civil aviation accidents from 1962 to 2023.  \n",
    "The data includes accident details such as aircraft model, date, location, phase of flight, injury counts, and weather conditions.\n"
   ]
  },
  {
   "cell_type": "markdown",
   "metadata": {},
   "source": [
    "## Methods\n",
    "\n",
    "We used the CRISP-DM methodology:\n",
    "- Cleaned and standardized key columns (e.g., date, injuries, aircraft make/model)\n",
    "- Conducted univariate, bivariate, and multivariate analysis\n",
    "- Aggregated injuries by aircraft model and purpose of flight\n",
    "- Created visualizations to highlight risk patterns\n"
   ]
  },
  {
   "cell_type": "markdown",
   "metadata": {},
   "source": [
    "## Results\n",
    "\n",
    "- Most accidents occurred between 1990 and 2010.\n",
    "- A small number of aircraft makes are involved in a majority of severe accidents.\n",
    "- Training and private-use flights tend to have higher injury rates than commercial flights.\n",
    "- Certain aircraft models consistently show low injury rates per incident.\n"
   ]
  },
  {
   "cell_type": "markdown",
   "metadata": {},
   "source": [
    "### Business Recommendation 1\n",
    "\n",
    "Invest in aircraft models with historically low total injuries per incident.  \n",
    "Examples: [insert model names based on your EDA].\n"
   ]
  },
  {
   "cell_type": "markdown",
   "metadata": {},
   "source": [
    "### Business Recommendation 2\n",
    "\n",
    "Avoid older models and aircraft used predominantly in private or training settings.  \n",
    "These showed a higher number of accidents and severe injuries.\n"
   ]
  },
  {
   "cell_type": "markdown",
   "metadata": {},
   "source": [
    "### Business Recommendation 3\n",
    "\n",
    "Start with commercial-use aircraft types with strong safety records, then expand based on risk-adjusted performance.  \n",
    "Consider insurance and maintenance costs as part of the decision process.\n"
   ]
  }
 ],
 "metadata": {
  "kernelspec": {
   "display_name": "Python 3",
   "language": "python",
   "name": "python3"
  },
  "language_info": {
   "codemirror_mode": {
    "name": "ipython",
    "version": 3
   },
   "file_extension": ".py",
   "mimetype": "text/x-python",
   "name": "python",
   "nbconvert_exporter": "python",
   "pygments_lexer": "ipython3",
   "version": "3.8.5"
  }
 },
 "nbformat": 4,
 "nbformat_minor": 4
}
